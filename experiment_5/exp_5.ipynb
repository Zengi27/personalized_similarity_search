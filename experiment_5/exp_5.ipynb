{
 "cells": [
  {
   "cell_type": "code",
   "id": "initial_id",
   "metadata": {
    "collapsed": true,
    "ExecuteTime": {
     "end_time": "2024-12-14T15:23:47.710285Z",
     "start_time": "2024-12-14T15:23:47.697289Z"
    }
   },
   "source": [
    "from OASIS import OASIS\n",
    "from dataset_loader import load_dataset\n",
    "from utils import *\n",
    "\n",
    "import numpy as np\n",
    "import random\n",
    "import matplotlib.pyplot as plt\n",
    "import pandas as pd\n",
    "import seaborn as sns\n",
    "\n",
    "import os"
   ],
   "outputs": [],
   "execution_count": 1
  },
  {
   "metadata": {
    "ExecuteTime": {
     "end_time": "2024-12-14T15:23:47.788255Z",
     "start_time": "2024-12-14T15:23:47.762826Z"
    }
   },
   "cell_type": "code",
   "source": [
    "def generate_triplets(dataset, num_triplets=201, positive_range=(1, 15), negative_range=(30, 50)):\n",
    "    \"\"\"\n",
    "    Generate triplets for training.\n",
    "\n",
    "    Args:\n",
    "    - dataset (array-like): The dataset from which to select images.\n",
    "    - num_triplets (int): Number of triplets to generate.\n",
    "    - positive_range (tuple): Range of indices for selecting positive images (start, end).\n",
    "    - negative_range (tuple): Range of indices for selecting negative images (start, end).\n",
    "\n",
    "    Returns:\n",
    "    - triplets (list): List of triplets [anchor, positive, negative].\n",
    "    \"\"\"\n",
    "    anchor_image_indices = []\n",
    "    selected_positive_list = []\n",
    "    selected_negative_list = []\n",
    "    triplets = []\n",
    "\n",
    "    for _ in range(num_triplets):\n",
    "        # Randomly choose a new anchor image each iteration\n",
    "        anchor_index = random.choice(range(len(dataset)))\n",
    "        anchor_image = dataset[anchor_index]\n",
    "        anchor_image_indices.append(anchor_index)\n",
    "        \n",
    "        # Find 50 nearest images to the anchor\n",
    "        nearest_indices = np.argsort(vectorized_cosine_distances_normalized(anchor_image, dataset))[:50]\n",
    "        nearest_to_anchor = [dataset[index] for index in nearest_indices]\n",
    "        \n",
    "        # Select positive and negative images\n",
    "        positive_image = random.choice(nearest_to_anchor[positive_range[0]:positive_range[1]])\n",
    "        negative_image = random.choice(nearest_to_anchor[negative_range[0]:negative_range[1]])\n",
    "        \n",
    "        # Add to lists\n",
    "        selected_positive_list.append(positive_image)\n",
    "        selected_negative_list.append(negative_image)\n",
    "        \n",
    "        # Create triplet\n",
    "        triplets.append([anchor_image, positive_image, negative_image])\n",
    "    \n",
    "    return triplets"
   ],
   "id": "16d0f7f2630a8688",
   "outputs": [],
   "execution_count": 2
  },
  {
   "metadata": {
    "ExecuteTime": {
     "end_time": "2024-12-14T15:23:48.146593Z",
     "start_time": "2024-12-14T15:23:48.135590Z"
    }
   },
   "cell_type": "code",
   "source": [
    "# Specify the directory you want to read from\n",
    "directory = os.path.join(os.path.dirname(os.getcwd()), 'ViT-L14')\n",
    "\n",
    "# size = 252001\n",
    "files_set = [\n",
    "    '003.txt', '004.txt', '005.txt', \n",
    "    '006.txt', '007.txt', '048.txt',\n",
    "    '049.txt', '055.txt', '056.txt',\n",
    "    '057.txt'\n",
    "]"
   ],
   "id": "e3f48fd2c54a74dc",
   "outputs": [],
   "execution_count": 3
  },
  {
   "metadata": {
    "ExecuteTime": {
     "end_time": "2024-12-14T15:25:24.250071Z",
     "start_time": "2024-12-14T15:23:48.182106Z"
    }
   },
   "cell_type": "code",
   "source": "image_names, dataset = load_dataset(directory, files_set)",
   "id": "229d68ff733a0785",
   "outputs": [
    {
     "name": "stdout",
     "output_type": "stream",
     "text": [
      "Processing file: 003.txt\n",
      "\tNumber of vectors: 5516\n",
      "Processing file: 004.txt\n",
      "\tNumber of vectors: 8386\n",
      "Processing file: 005.txt\n",
      "\tNumber of vectors: 13638\n",
      "Processing file: 006.txt\n",
      "\tNumber of vectors: 17044\n",
      "Processing file: 007.txt\n",
      "\tNumber of vectors: 15181\n",
      "Processing file: 048.txt\n",
      "\tNumber of vectors: 26687\n",
      "Processing file: 049.txt\n",
      "\tNumber of vectors: 44032\n",
      "Processing file: 055.txt\n",
      "\tNumber of vectors: 43070\n",
      "Processing file: 056.txt\n",
      "\tNumber of vectors: 39764\n",
      "Processing file: 057.txt\n",
      "\tNumber of vectors: 38683\n",
      "\n",
      "Number of vectors in all files: 252001\n",
      "Number of dimensions: 768\n"
     ]
    }
   ],
   "execution_count": 4
  },
  {
   "metadata": {
    "ExecuteTime": {
     "end_time": "2024-12-14T15:25:49.268537Z",
     "start_time": "2024-12-14T15:25:24.285061Z"
    }
   },
   "cell_type": "code",
   "source": "dataset = np.array(dataset)",
   "id": "8a45bcb09ac24823",
   "outputs": [],
   "execution_count": 5
  },
  {
   "metadata": {},
   "cell_type": "markdown",
   "source": "## Verification OASIS method after transforming to a symmetric and PSD matrix",
   "id": "1b99fc754f5bf69e"
  },
  {
   "metadata": {
    "ExecuteTime": {
     "end_time": "2024-12-14T15:27:07.199063Z",
     "start_time": "2024-12-14T15:25:49.319432Z"
    }
   },
   "cell_type": "code",
   "source": [
    "triplets = generate_triplets(dataset, num_triplets=100, positive_range=(1, 15), negative_range=(15, 30))\n",
    "print(\"END of Generating Triplets\")\n",
    "\n",
    "# Calculate Initial Distances (Euclidean)\n",
    "initial_distances = []\n",
    "for anchor, similar, dissimilar in triplets:\n",
    "    # Euclidean distance to similar\n",
    "    d_sim = euclidean_distance(anchor, similar)\n",
    "    # Euclidean distance to dissimilar\n",
    "    d_dis = euclidean_distance(anchor, dissimilar)\n",
    "   \n",
    "    initial_distances.append((d_sim, d_dis))\n",
    "\n",
    "# Calculate Distances After Training (Mahalanobis)\n",
    "final_distances = []\n",
    "for anchor, similar, dissimilar in triplets:\n",
    "    oasis = OASIS(tau=0.07, enforce_symmetric=True, enforce_psd=True, verbose=False)\n",
    "    triplet = [[anchor, similar, dissimilar]]  # A single triplet\n",
    "    oasis.partial_fit(M=np.eye(len(anchor)), triplets=triplet)\n",
    "    \n",
    "    M = oasis.get_matrix()\n",
    "    \n",
    "    d_sim_mahalanobis = mahalanobis_distance(anchor, similar, M)\n",
    "    d_dis_mahalanobis = mahalanobis_distance(anchor, dissimilar, M)\n",
    "    \n",
    "    final_distances.append((d_sim_mahalanobis, d_dis_mahalanobis))\n",
    "    \n",
    "improved_count = 0\n",
    "failed_count = 0\n",
    "for (d_sim_initial, d_dis_initial), (d_sim_final, d_dis_final) in zip(initial_distances, final_distances):\n",
    "    if d_sim_final <= d_sim_initial and d_dis_final >= d_dis_initial:\n",
    "        improved_count += 1  # Count improved cases\n",
    "    else:\n",
    "        print(f\"Test failed: d_sim_initial={d_sim_initial}, d_sim_final={d_sim_final}, \"\n",
    "              f\"d_dis_initial={d_dis_initial}, d_dis_final={d_dis_final}\")\n",
    "        failed_count += 1  # Count failed cases\n",
    "        \n",
    "total_triplets = len(initial_distances)\n",
    "if failed_count == 0:\n",
    "    print(f\"OASIS method successfully improved all distances!\")\n",
    "    print(\"For all triplets, similar points were moved closer, and dissimilar points were moved farther.\")\n",
    "else:\n",
    "    print(f\"OASIS method improved {improved_count} out of {total_triplets} distances.\")\n",
    "    print(f\"{failed_count} triplets did not improve.\")"
   ],
   "id": "b017fe9c25283f54",
   "outputs": [
    {
     "name": "stdout",
     "output_type": "stream",
     "text": [
      "END of Generating Triplets\n",
      "OASIS method successfully improved all distances!\n",
      "For all triplets, similar points were moved closer, and dissimilar points were moved farther.\n"
     ]
    }
   ],
   "execution_count": 6
  },
  {
   "metadata": {},
   "cell_type": "markdown",
   "source": "---",
   "id": "5e4d1e514250a545"
  },
  {
   "metadata": {},
   "cell_type": "markdown",
   "source": "## The Evolution of the Scaling Factor with Increasing User Inputs",
   "id": "a13e7ce9d8345a7f"
  },
  {
   "metadata": {
    "ExecuteTime": {
     "end_time": "2024-12-14T16:41:22.021505Z",
     "start_time": "2024-12-14T16:41:21.996748Z"
    }
   },
   "cell_type": "code",
   "source": [
    "M = np.eye(len(dataset[0]))\n",
    "results = pd.DataFrame(columns=['Num of Inputs', 'Scaling Factor', 'Experiment Type'])"
   ],
   "id": "8d73be0017ebe3d7",
   "outputs": [],
   "execution_count": 21
  },
  {
   "metadata": {
    "ExecuteTime": {
     "end_time": "2024-12-14T17:11:43.731636Z",
     "start_time": "2024-12-14T16:41:23.330341Z"
    }
   },
   "cell_type": "code",
   "source": [
    "all_results = []\n",
    "batch = 1\n",
    "\n",
    "for experiment in range(5):\n",
    "    # print(f\"Experiment {experiment + 1}\")\n",
    "    \n",
    "    total_num_inputs = 0\n",
    "    M = np.eye(len(dataset[0]))\n",
    "    triplets = generate_triplets(dataset, num_triplets=201, positive_range=(1, 15), negative_range=(15, 30))\n",
    "    # print(\"Generation finished\")\n",
    "    \n",
    "    model_oasis = OASIS(tau=0.07, enforce_symmetric=True, enforce_psd=True)\n",
    "    \n",
    "    for i in range(1, 201):\n",
    "        # print(f\"Iteration i:{i}\")\n",
    "        start_index = (i - 1) * batch\n",
    "        end_index = i * batch\n",
    "        \n",
    "        num_inputs = batch\n",
    "        total_num_inputs += batch\n",
    "        \n",
    "        triplets_subset = triplets[start_index:end_index]\n",
    "        \n",
    "        model_oasis.partial_fit(M, triplets_subset)\n",
    "        M = model_oasis.get_matrix()\n",
    "        \n",
    "        sf = calculate_scaling_factor(M)\n",
    "        # print(f\"Scaling factor of M: {sf}\")\n",
    "        \n",
    "        result = {\n",
    "            'Num of Inputs': total_num_inputs,\n",
    "            'Scaling Factor': format(sf.real, '.6f'),\n",
    "            'Experiment Type': 'OASIS (Semantic Inputs)'\n",
    "        }\n",
    "        \n",
    "        all_results.append(result)\n"
   ],
   "id": "9c6144acce1045d9",
   "outputs": [],
   "execution_count": 22
  },
  {
   "metadata": {
    "ExecuteTime": {
     "end_time": "2024-12-14T17:11:43.776537Z",
     "start_time": "2024-12-14T17:11:43.750941Z"
    }
   },
   "cell_type": "code",
   "source": "results = pd.concat([results, pd.DataFrame(all_results)], ignore_index=True)",
   "id": "85e7c941e2a82a89",
   "outputs": [],
   "execution_count": 23
  },
  {
   "metadata": {
    "ExecuteTime": {
     "end_time": "2024-12-14T17:11:43.856070Z",
     "start_time": "2024-12-14T17:11:43.844545Z"
    }
   },
   "cell_type": "code",
   "source": "results.to_pickle('exp_5.pkl')",
   "id": "daf862e46bff782c",
   "outputs": [],
   "execution_count": 24
  },
  {
   "metadata": {},
   "cell_type": "markdown",
   "source": "----",
   "id": "eb5ac45bbcc403e3"
  },
  {
   "metadata": {},
   "cell_type": "markdown",
   "source": "## If you want to only show previous results, start from here",
   "id": "60160aa89f3781dd"
  },
  {
   "metadata": {
    "ExecuteTime": {
     "end_time": "2024-12-14T17:11:43.967609Z",
     "start_time": "2024-12-14T17:11:43.928069Z"
    }
   },
   "cell_type": "code",
   "source": "results = pd.read_pickle('exp_5.pkl')",
   "id": "25b6072219f14f41",
   "outputs": [],
   "execution_count": 25
  },
  {
   "metadata": {
    "ExecuteTime": {
     "end_time": "2024-12-14T17:11:44.093142Z",
     "start_time": "2024-12-14T17:11:44.051148Z"
    }
   },
   "cell_type": "code",
   "source": [
    "results['Num of Inputs'] = results['Num of Inputs'].astype(int)\n",
    "\n",
    "filtered_result = results[results['Num of Inputs'] % 10 == 0].copy()\n",
    "filtered_result"
   ],
   "id": "afd8722a5e4ed938",
   "outputs": [
    {
     "data": {
      "text/plain": [
       "     Num of Inputs Scaling Factor          Experiment Type\n",
       "9               10       1.027244  OASIS (Semantic Inputs)\n",
       "19              20       1.043894  OASIS (Semantic Inputs)\n",
       "29              30       1.056591  OASIS (Semantic Inputs)\n",
       "39              40       1.068378  OASIS (Semantic Inputs)\n",
       "49              50       1.074326  OASIS (Semantic Inputs)\n",
       "..             ...            ...                      ...\n",
       "959            160       1.117001  OASIS (Semantic Inputs)\n",
       "969            170       1.118747  OASIS (Semantic Inputs)\n",
       "979            180       1.128244  OASIS (Semantic Inputs)\n",
       "989            190       1.133527  OASIS (Semantic Inputs)\n",
       "999            200       1.134863  OASIS (Semantic Inputs)\n",
       "\n",
       "[100 rows x 3 columns]"
      ],
      "text/html": [
       "<div>\n",
       "<style scoped>\n",
       "    .dataframe tbody tr th:only-of-type {\n",
       "        vertical-align: middle;\n",
       "    }\n",
       "\n",
       "    .dataframe tbody tr th {\n",
       "        vertical-align: top;\n",
       "    }\n",
       "\n",
       "    .dataframe thead th {\n",
       "        text-align: right;\n",
       "    }\n",
       "</style>\n",
       "<table border=\"1\" class=\"dataframe\">\n",
       "  <thead>\n",
       "    <tr style=\"text-align: right;\">\n",
       "      <th></th>\n",
       "      <th>Num of Inputs</th>\n",
       "      <th>Scaling Factor</th>\n",
       "      <th>Experiment Type</th>\n",
       "    </tr>\n",
       "  </thead>\n",
       "  <tbody>\n",
       "    <tr>\n",
       "      <th>9</th>\n",
       "      <td>10</td>\n",
       "      <td>1.027244</td>\n",
       "      <td>OASIS (Semantic Inputs)</td>\n",
       "    </tr>\n",
       "    <tr>\n",
       "      <th>19</th>\n",
       "      <td>20</td>\n",
       "      <td>1.043894</td>\n",
       "      <td>OASIS (Semantic Inputs)</td>\n",
       "    </tr>\n",
       "    <tr>\n",
       "      <th>29</th>\n",
       "      <td>30</td>\n",
       "      <td>1.056591</td>\n",
       "      <td>OASIS (Semantic Inputs)</td>\n",
       "    </tr>\n",
       "    <tr>\n",
       "      <th>39</th>\n",
       "      <td>40</td>\n",
       "      <td>1.068378</td>\n",
       "      <td>OASIS (Semantic Inputs)</td>\n",
       "    </tr>\n",
       "    <tr>\n",
       "      <th>49</th>\n",
       "      <td>50</td>\n",
       "      <td>1.074326</td>\n",
       "      <td>OASIS (Semantic Inputs)</td>\n",
       "    </tr>\n",
       "    <tr>\n",
       "      <th>...</th>\n",
       "      <td>...</td>\n",
       "      <td>...</td>\n",
       "      <td>...</td>\n",
       "    </tr>\n",
       "    <tr>\n",
       "      <th>959</th>\n",
       "      <td>160</td>\n",
       "      <td>1.117001</td>\n",
       "      <td>OASIS (Semantic Inputs)</td>\n",
       "    </tr>\n",
       "    <tr>\n",
       "      <th>969</th>\n",
       "      <td>170</td>\n",
       "      <td>1.118747</td>\n",
       "      <td>OASIS (Semantic Inputs)</td>\n",
       "    </tr>\n",
       "    <tr>\n",
       "      <th>979</th>\n",
       "      <td>180</td>\n",
       "      <td>1.128244</td>\n",
       "      <td>OASIS (Semantic Inputs)</td>\n",
       "    </tr>\n",
       "    <tr>\n",
       "      <th>989</th>\n",
       "      <td>190</td>\n",
       "      <td>1.133527</td>\n",
       "      <td>OASIS (Semantic Inputs)</td>\n",
       "    </tr>\n",
       "    <tr>\n",
       "      <th>999</th>\n",
       "      <td>200</td>\n",
       "      <td>1.134863</td>\n",
       "      <td>OASIS (Semantic Inputs)</td>\n",
       "    </tr>\n",
       "  </tbody>\n",
       "</table>\n",
       "<p>100 rows × 3 columns</p>\n",
       "</div>"
      ]
     },
     "execution_count": 26,
     "metadata": {},
     "output_type": "execute_result"
    }
   ],
   "execution_count": 26
  },
  {
   "metadata": {
    "ExecuteTime": {
     "end_time": "2024-12-14T17:11:45.657903Z",
     "start_time": "2024-12-14T17:11:44.255751Z"
    }
   },
   "cell_type": "code",
   "source": [
    "# Convert 'Num Pairs' to a categorical variable for better grouping in Seaborn\n",
    "filtered_result['Scaling Factor'] = pd.to_numeric(filtered_result['Scaling Factor'])\n",
    "\n",
    "# Plotting with Seaborn\n",
    "plt.figure(figsize=(12, 8))\n",
    "sns.boxplot(\n",
    "    data=filtered_result,\n",
    "    x='Num of Inputs',\n",
    "    y='Scaling Factor',\n",
    "    hue='Experiment Type',  # Subgroups\n",
    "    showfliers=False  # Hide outliers for clearer visualization\n",
    ")\n",
    "\n",
    "# Add labels and title\n",
    "plt.xlabel('Number of User Inputs')\n",
    "plt.ylabel('Scaling Factor')\n",
    "plt.title('Box Plot of Scaling Factors by Number of User Inputs and Experiment Type')\n",
    "plt.legend(title='Experiment Type')\n",
    "plt.grid(axis='y', linestyle='--', alpha=0.7)\n",
    "\n",
    "# Show the plot\n",
    "plt.show()"
   ],
   "id": "40f55df9a3b8da3a",
   "outputs": [
    {
     "data": {
      "text/plain": [
       "<Figure size 864x576 with 1 Axes>"
      ],
      "image/png": "[encoded data removed]"
     },
     "metadata": {},
     "output_type": "display_data"
    }
   ],
   "execution_count": 27
  }
 ],
 "metadata": {
  "kernelspec": {
   "display_name": "Python 3",
   "language": "python",
   "name": "python3"
  },
  "language_info": {
   "codemirror_mode": {
    "name": "ipython",
    "version": 2
   },
   "file_extension": ".py",
   "mimetype": "text/x-python",
   "name": "python",
   "nbconvert_exporter": "python",
   "pygments_lexer": "ipython2",
   "version": "2.7.6"
  }
 },
 "nbformat": 4,
 "nbformat_minor": 5
}
